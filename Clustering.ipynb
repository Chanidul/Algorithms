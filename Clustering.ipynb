{
  "metadata": {
    "language_info": {
      "codemirror_mode": {
        "name": "python",
        "version": 3
      },
      "file_extension": ".py",
      "mimetype": "text/x-python",
      "name": "python",
      "nbconvert_exporter": "python",
      "pygments_lexer": "ipython3",
      "version": "3.8"
    },
    "kernelspec": {
      "name": "python",
      "display_name": "Python (Pyodide)",
      "language": "python"
    },
    "colab": {
      "provenance": [],
      "include_colab_link": true
    }
  },
  "nbformat_minor": 0,
  "nbformat": 4,
  "cells": [
    {
      "cell_type": "markdown",
      "metadata": {
        "id": "view-in-github",
        "colab_type": "text"
      },
      "source": [
        "<a href=\"https://colab.research.google.com/github/Chanidul/Algorithms/blob/main/Clustering.ipynb\" target=\"_parent\"><img src=\"https://colab.research.google.com/assets/colab-badge.svg\" alt=\"Open In Colab\"/></a>"
      ]
    },
    {
      "cell_type": "code",
      "source": [
        "import numpy as np\n",
        "import matplotlib.pyplot as plt\n",
        "import pandas as pd\n",
        "from sklearn.cluster import KMeans\n",
        "from sklearn import metrics\n",
        "from sklearn.metrics import classification_report, confusion_matrix\n",
        "from sklearn.model_selection import train_test_split\n",
        "from sklearn.metrics import silhouette_score\n",
        "from sklearn import metrics\n"
      ],
      "metadata": {
        "trusted": true,
        "id": "_oKlsP3_IZAW"
      },
      "execution_count": 80,
      "outputs": []
    },
    {
      "cell_type": "code",
      "source": [
        "#Data labeling\n",
        "colNames = ['area', 'perimeter', 'compactness', 'length', 'width','asymmetry_coefficient','groove_length','Class']"
      ],
      "metadata": {
        "trusted": true,
        "id": "7KcuMZdtIZAd"
      },
      "execution_count": 81,
      "outputs": []
    },
    {
      "cell_type": "code",
      "source": [
        "#data Obtainiing\n",
        "data = pd.read_csv(\"seeds_dataset.csv\", names=colNames)\n",
        "\n",
        "#ignoring the class of wheat\n",
        "del data['Class']\n",
        "\n",
        "print(data.head())\n",
        "#print(data['Class'].value_counts())\n",
        "#print(data.values)"
      ],
      "metadata": {
        "trusted": true,
        "colab": {
          "base_uri": "https://localhost:8080/"
        },
        "id": "9P7RYKFZIZAe",
        "outputId": "d6ec6a16-157b-4917-e25b-d0c4fec1182f"
      },
      "execution_count": 82,
      "outputs": [
        {
          "output_type": "stream",
          "name": "stdout",
          "text": [
            "    area  perimeter  compactness  length  width  asymmetry_coefficient  \\\n",
            "0  15.26      14.84       0.8710   5.763  3.312                  2.221   \n",
            "1  14.88      14.57       0.8811   5.554  3.333                  1.018   \n",
            "2  14.29      14.09       0.9050   5.291  3.337                  2.699   \n",
            "3  13.84      13.94       0.8955   5.324  3.379                  2.259   \n",
            "4  16.14      14.99       0.9034   5.658  3.562                  1.355   \n",
            "\n",
            "   groove_length  \n",
            "0          5.220  \n",
            "1          4.956  \n",
            "2          4.825  \n",
            "3          4.805  \n",
            "4          5.175  \n"
          ]
        }
      ]
    },
    {
      "cell_type": "code",
      "source": [
        "#Elbow method\n",
        "#WCSS = \"Within Cluster Sum of Squares\"\n",
        "samples =data.values\n"
      ],
      "metadata": {
        "trusted": true,
        "id": "0wDyz9lNIZAi"
      },
      "execution_count": 83,
      "outputs": []
    },
    {
      "cell_type": "code",
      "source": [
        "num_of_clusters=range(1,10)"
      ],
      "metadata": {
        "trusted": true,
        "id": "mPgY4bm2IZAj"
      },
      "execution_count": 84,
      "outputs": []
    },
    {
      "cell_type": "code",
      "source": [
        "wcss= []"
      ],
      "metadata": {
        "trusted": true,
        "id": "36KNSyP1IZAk"
      },
      "execution_count": 85,
      "outputs": []
    },
    {
      "cell_type": "code",
      "source": [
        "for k in num_of_clusters:\n",
        "    #create a k means class instance with k clusters\n",
        "    model=KMeans(n_clusters=k,random_state=15)\n",
        "\n",
        "    #build the model\n",
        "    model.fit(samples)\n",
        "\n",
        "    #Append the intertia(wcss) to the named \"wcss\"\n",
        "    wcss.append(model.inertia_)"
      ],
      "metadata": {
        "trusted": true,
        "colab": {
          "base_uri": "https://localhost:8080/"
        },
        "id": "dYTfs30vIZAl",
        "outputId": "5a580c55-d380-4061-f18d-ea374e4cface"
      },
      "execution_count": 86,
      "outputs": [
        {
          "output_type": "stream",
          "name": "stderr",
          "text": [
            "/usr/local/lib/python3.10/dist-packages/sklearn/cluster/_kmeans.py:870: FutureWarning: The default value of `n_init` will change from 10 to 'auto' in 1.4. Set the value of `n_init` explicitly to suppress the warning\n",
            "  warnings.warn(\n",
            "/usr/local/lib/python3.10/dist-packages/sklearn/cluster/_kmeans.py:870: FutureWarning: The default value of `n_init` will change from 10 to 'auto' in 1.4. Set the value of `n_init` explicitly to suppress the warning\n",
            "  warnings.warn(\n",
            "/usr/local/lib/python3.10/dist-packages/sklearn/cluster/_kmeans.py:870: FutureWarning: The default value of `n_init` will change from 10 to 'auto' in 1.4. Set the value of `n_init` explicitly to suppress the warning\n",
            "  warnings.warn(\n",
            "/usr/local/lib/python3.10/dist-packages/sklearn/cluster/_kmeans.py:870: FutureWarning: The default value of `n_init` will change from 10 to 'auto' in 1.4. Set the value of `n_init` explicitly to suppress the warning\n",
            "  warnings.warn(\n",
            "/usr/local/lib/python3.10/dist-packages/sklearn/cluster/_kmeans.py:870: FutureWarning: The default value of `n_init` will change from 10 to 'auto' in 1.4. Set the value of `n_init` explicitly to suppress the warning\n",
            "  warnings.warn(\n",
            "/usr/local/lib/python3.10/dist-packages/sklearn/cluster/_kmeans.py:870: FutureWarning: The default value of `n_init` will change from 10 to 'auto' in 1.4. Set the value of `n_init` explicitly to suppress the warning\n",
            "  warnings.warn(\n",
            "/usr/local/lib/python3.10/dist-packages/sklearn/cluster/_kmeans.py:870: FutureWarning: The default value of `n_init` will change from 10 to 'auto' in 1.4. Set the value of `n_init` explicitly to suppress the warning\n",
            "  warnings.warn(\n",
            "/usr/local/lib/python3.10/dist-packages/sklearn/cluster/_kmeans.py:870: FutureWarning: The default value of `n_init` will change from 10 to 'auto' in 1.4. Set the value of `n_init` explicitly to suppress the warning\n",
            "  warnings.warn(\n",
            "/usr/local/lib/python3.10/dist-packages/sklearn/cluster/_kmeans.py:870: FutureWarning: The default value of `n_init` will change from 10 to 'auto' in 1.4. Set the value of `n_init` explicitly to suppress the warning\n",
            "  warnings.warn(\n"
          ]
        }
      ]
    },
    {
      "cell_type": "code",
      "source": [
        "wcss"
      ],
      "metadata": {
        "trusted": true,
        "colab": {
          "base_uri": "https://localhost:8080/"
        },
        "id": "nyUdnslPIZAm",
        "outputId": "aaefe163-1a03-438d-8e81-832cfcff49cf"
      },
      "execution_count": 87,
      "outputs": [
        {
          "output_type": "execute_result",
          "data": {
            "text/plain": [
              "[2719.852410177952,\n",
              " 1011.7123453151189,\n",
              " 587.318611594043,\n",
              " 471.0271456822111,\n",
              " 385.50729234904384,\n",
              " 323.6983557677066,\n",
              " 279.4246649551484,\n",
              " 240.40226837362866,\n",
              " 218.52434893107]"
            ]
          },
          "metadata": {},
          "execution_count": 87
        }
      ]
    },
    {
      "cell_type": "code",
      "source": [
        "plt.plot(num_of_clusters,wcss, '-o')\n",
        "plt.title('The Elbow Method',  fontsize = 18)\n",
        "plt.xlabel('No. of clusters', fontsize=16)\n",
        "plt.ylabel('WCSS', fontsize=16)"
      ],
      "metadata": {
        "trusted": true,
        "colab": {
          "base_uri": "https://localhost:8080/",
          "height": 500
        },
        "id": "6h2JhRMQIZAn",
        "outputId": "16cc1f6f-561e-49a8-bc2e-43ac182a77eb"
      },
      "execution_count": 88,
      "outputs": [
        {
          "output_type": "execute_result",
          "data": {
            "text/plain": [
              "Text(0, 0.5, 'WCSS')"
            ]
          },
          "metadata": {},
          "execution_count": 88
        },
        {
          "output_type": "display_data",
          "data": {
            "text/plain": [
              "<Figure size 640x480 with 1 Axes>"
            ],
            "image/png": "[encoded data removed]"
          },
          "metadata": {}
        }
      ]
    },
    {
      "cell_type": "code",
      "source": [
        "#The value of k at the “elbow” ie the point after which the distortion/inertia starts decreasing in a linear fashion is 3\n",
        "#Thus for the given data, we conclude that the optimal number of clusters for the data is 3\n"
      ],
      "metadata": {
        "trusted": true,
        "id": "ym4KeRCiIZAp"
      },
      "execution_count": 89,
      "outputs": []
    },
    {
      "cell_type": "code",
      "source": [
        "#K-means clustering with 3 number of clustering\n",
        "\n",
        "kmeans = KMeans(n_clusters=3)\n",
        "kmeans.fit(data)\n",
        "labels = kmeans.fit_predict(data)\n",
        "\n",
        "kmeans.cluster_centers_"
      ],
      "metadata": {
        "trusted": true,
        "colab": {
          "base_uri": "https://localhost:8080/"
        },
        "id": "n_klU6MVIZBL",
        "outputId": "1466a9fc-e069-4b81-f836-41f8777358c6"
      },
      "execution_count": 90,
      "outputs": [
        {
          "output_type": "stream",
          "name": "stderr",
          "text": [
            "/usr/local/lib/python3.10/dist-packages/sklearn/cluster/_kmeans.py:870: FutureWarning: The default value of `n_init` will change from 10 to 'auto' in 1.4. Set the value of `n_init` explicitly to suppress the warning\n",
            "  warnings.warn(\n",
            "/usr/local/lib/python3.10/dist-packages/sklearn/cluster/_kmeans.py:870: FutureWarning: The default value of `n_init` will change from 10 to 'auto' in 1.4. Set the value of `n_init` explicitly to suppress the warning\n",
            "  warnings.warn(\n"
          ]
        },
        {
          "output_type": "execute_result",
          "data": {
            "text/plain": [
              "array([[18.72180328, 16.29737705,  0.88508689,  6.20893443,  3.72267213,\n",
              "         3.60359016,  6.06609836],\n",
              "       [11.96441558, 13.27480519,  0.8522    ,  5.22928571,  2.87292208,\n",
              "         4.75974026,  5.08851948],\n",
              "       [14.64847222, 14.46041667,  0.87916667,  5.56377778,  3.27790278,\n",
              "         2.64893333,  5.19231944]])"
            ]
          },
          "metadata": {},
          "execution_count": 90
        }
      ]
    },
    {
      "cell_type": "code",
      "source": [
        "df = pd.DataFrame({'labels': labels, 'Grain_var': Grain_var})\n",
        "ct = pd.crosstab(df['labels'], df['Grain_var'])"
      ],
      "metadata": {
        "trusted": true,
        "id": "RwgxDE1mIZBN"
      },
      "execution_count": 91,
      "outputs": []
    },
    {
      "cell_type": "code",
      "source": [
        "num_of_clusters = list(range(2,10))\n",
        "silhouette_score_list = []\n",
        "\n",
        "for k in num_of_clusters:\n",
        "    # Create a KMeans class instance with k clusters\n",
        "    model = KMeans(n_clusters=k, random_state=15)\n",
        "\n",
        "    # Build the model using the data and predict the clusters\n",
        "    clusters_labels = model.fit_predict(data)\n",
        "\n",
        "    silhouette_score_list.append(silhouette_score(data,clusters_labels))"
      ],
      "metadata": {
        "trusted": true,
        "colab": {
          "base_uri": "https://localhost:8080/"
        },
        "id": "faqll10fIZBP",
        "outputId": "d1147fab-3844-4eb2-c94b-e05d233182f6"
      },
      "execution_count": 92,
      "outputs": [
        {
          "output_type": "stream",
          "name": "stderr",
          "text": [
            "/usr/local/lib/python3.10/dist-packages/sklearn/cluster/_kmeans.py:870: FutureWarning: The default value of `n_init` will change from 10 to 'auto' in 1.4. Set the value of `n_init` explicitly to suppress the warning\n",
            "  warnings.warn(\n",
            "/usr/local/lib/python3.10/dist-packages/sklearn/cluster/_kmeans.py:870: FutureWarning: The default value of `n_init` will change from 10 to 'auto' in 1.4. Set the value of `n_init` explicitly to suppress the warning\n",
            "  warnings.warn(\n",
            "/usr/local/lib/python3.10/dist-packages/sklearn/cluster/_kmeans.py:870: FutureWarning: The default value of `n_init` will change from 10 to 'auto' in 1.4. Set the value of `n_init` explicitly to suppress the warning\n",
            "  warnings.warn(\n",
            "/usr/local/lib/python3.10/dist-packages/sklearn/cluster/_kmeans.py:870: FutureWarning: The default value of `n_init` will change from 10 to 'auto' in 1.4. Set the value of `n_init` explicitly to suppress the warning\n",
            "  warnings.warn(\n",
            "/usr/local/lib/python3.10/dist-packages/sklearn/cluster/_kmeans.py:870: FutureWarning: The default value of `n_init` will change from 10 to 'auto' in 1.4. Set the value of `n_init` explicitly to suppress the warning\n",
            "  warnings.warn(\n",
            "/usr/local/lib/python3.10/dist-packages/sklearn/cluster/_kmeans.py:870: FutureWarning: The default value of `n_init` will change from 10 to 'auto' in 1.4. Set the value of `n_init` explicitly to suppress the warning\n",
            "  warnings.warn(\n",
            "/usr/local/lib/python3.10/dist-packages/sklearn/cluster/_kmeans.py:870: FutureWarning: The default value of `n_init` will change from 10 to 'auto' in 1.4. Set the value of `n_init` explicitly to suppress the warning\n",
            "  warnings.warn(\n",
            "/usr/local/lib/python3.10/dist-packages/sklearn/cluster/_kmeans.py:870: FutureWarning: The default value of `n_init` will change from 10 to 'auto' in 1.4. Set the value of `n_init` explicitly to suppress the warning\n",
            "  warnings.warn(\n"
          ]
        }
      ]
    },
    {
      "cell_type": "code",
      "source": [
        "num_of_clusters.insert(0,1)\n",
        "silhouette_score_list.insert(0,0)"
      ],
      "metadata": {
        "trusted": true,
        "id": "J4FLuuEmIZBR"
      },
      "execution_count": 93,
      "outputs": []
    },
    {
      "cell_type": "code",
      "source": [
        "plt.plot(num_of_clusters,silhouette_score_list)\n",
        "plt.title('The Silhouette Method',  fontsize = 18)\n",
        "plt.xlabel('No. of clusters',  fontsize = 16)\n",
        "plt.ylabel('Silhouette coefficient',  fontsize = 16)"
      ],
      "metadata": {
        "trusted": true,
        "colab": {
          "base_uri": "https://localhost:8080/",
          "height": 500
        },
        "id": "ZZA6dPmgIZBR",
        "outputId": "0784b46d-e576-4bff-9fe6-347c8b5822b7"
      },
      "execution_count": 94,
      "outputs": [
        {
          "output_type": "execute_result",
          "data": {
            "text/plain": [
              "Text(0, 0.5, 'Silhouette coefficient')"
            ]
          },
          "metadata": {},
          "execution_count": 94
        },
        {
          "output_type": "display_data",
          "data": {
            "text/plain": [
              "<Figure size 640x480 with 1 Axes>"
            ],
            "image/png": "[encoded data removed]"
          },
          "metadata": {}
        }
      ]
    },
    {
      "cell_type": "code",
      "source": [
        "num_of_clusters,silhouette_score_list"
      ],
      "metadata": {
        "colab": {
          "base_uri": "https://localhost:8080/"
        },
        "id": "VLTM9EbBwHtV",
        "outputId": "6f9c8434-f632-4229-d2dc-15f270c647c3"
      },
      "execution_count": 95,
      "outputs": [
        {
          "output_type": "execute_result",
          "data": {
            "text/plain": [
              "([1, 2, 3, 4, 5, 6, 7, 8, 9],\n",
              " [0,\n",
              "  0.5182873410849098,\n",
              "  0.4719337319126887,\n",
              "  0.3953600261389669,\n",
              "  0.3613234083219364,\n",
              "  0.36458428170684964,\n",
              "  0.3666748201720589,\n",
              "  0.362074429185029,\n",
              "  0.3599610238402022])"
            ]
          },
          "metadata": {},
          "execution_count": 95
        }
      ]
    },
    {
      "cell_type": "code",
      "source": [
        "from sklearn import metrics\n",
        "# purity_score Function\n",
        "def purity_score(y_true, y_pred):\n",
        "    # compute contingency matrix (also called confusion matrix)\n",
        "    contingency_matrix = metrics.cluster.contingency_matrix(y_true, y_pred)\n",
        "    # return purity\n",
        "    return np.sum(np.amax(contingency_matrix, axis=0))*100 / np.sum(contingency_matrix)"
      ],
      "metadata": {
        "id": "acYGER9nIZBT"
      },
      "execution_count": 96,
      "outputs": []
    },
    {
      "cell_type": "code",
      "source": [
        "print(\"Purity score for k-means: %0.2f%% \"%(purity_score(Grain_var,labels)))"
      ],
      "metadata": {
        "colab": {
          "base_uri": "https://localhost:8080/"
        },
        "id": "H3V4tUYOQhLh",
        "outputId": "073c4c78-2c04-4df3-ece1-b44f8634e687"
      },
      "execution_count": 97,
      "outputs": [
        {
          "output_type": "stream",
          "name": "stdout",
          "text": [
            "Purity score for k-means: 89.52% \n"
          ]
        }
      ]
    },
    {
      "cell_type": "code",
      "source": [
        "!pip install pyclustering"
      ],
      "metadata": {
        "colab": {
          "base_uri": "https://localhost:8080/"
        },
        "id": "183E-X9BedRq",
        "outputId": "1246396e-5813-402e-a7b9-a62aff76e054"
      },
      "execution_count": 98,
      "outputs": [
        {
          "output_type": "stream",
          "name": "stdout",
          "text": [
            "Requirement already satisfied: pyclustering in /usr/local/lib/python3.10/dist-packages (0.10.1.2)\n",
            "Requirement already satisfied: scipy>=1.1.0 in /usr/local/lib/python3.10/dist-packages (from pyclustering) (1.11.3)\n",
            "Requirement already satisfied: matplotlib>=3.0.0 in /usr/local/lib/python3.10/dist-packages (from pyclustering) (3.7.1)\n",
            "Requirement already satisfied: numpy>=1.15.2 in /usr/local/lib/python3.10/dist-packages (from pyclustering) (1.23.5)\n",
            "Requirement already satisfied: Pillow>=5.2.0 in /usr/local/lib/python3.10/dist-packages (from pyclustering) (9.4.0)\n",
            "Requirement already satisfied: contourpy>=1.0.1 in /usr/local/lib/python3.10/dist-packages (from matplotlib>=3.0.0->pyclustering) (1.1.1)\n",
            "Requirement already satisfied: cycler>=0.10 in /usr/local/lib/python3.10/dist-packages (from matplotlib>=3.0.0->pyclustering) (0.12.1)\n",
            "Requirement already satisfied: fonttools>=4.22.0 in /usr/local/lib/python3.10/dist-packages (from matplotlib>=3.0.0->pyclustering) (4.43.1)\n",
            "Requirement already satisfied: kiwisolver>=1.0.1 in /usr/local/lib/python3.10/dist-packages (from matplotlib>=3.0.0->pyclustering) (1.4.5)\n",
            "Requirement already satisfied: packaging>=20.0 in /usr/local/lib/python3.10/dist-packages (from matplotlib>=3.0.0->pyclustering) (23.2)\n",
            "Requirement already satisfied: pyparsing>=2.3.1 in /usr/local/lib/python3.10/dist-packages (from matplotlib>=3.0.0->pyclustering) (3.1.1)\n",
            "Requirement already satisfied: python-dateutil>=2.7 in /usr/local/lib/python3.10/dist-packages (from matplotlib>=3.0.0->pyclustering) (2.8.2)\n",
            "Requirement already satisfied: six>=1.5 in /usr/local/lib/python3.10/dist-packages (from python-dateutil>=2.7->matplotlib>=3.0.0->pyclustering) (1.16.0)\n"
          ]
        }
      ]
    },
    {
      "cell_type": "code",
      "source": [
        "from pyclustering.cluster.kmedoids import kmedoids"
      ],
      "metadata": {
        "id": "UM3aScArnHN_"
      },
      "execution_count": 99,
      "outputs": []
    },
    {
      "cell_type": "code",
      "source": [
        "features=data.iloc[:,0:7]"
      ],
      "metadata": {
        "id": "a93EtkvLzg0E"
      },
      "execution_count": 109,
      "outputs": []
    },
    {
      "cell_type": "code",
      "source": [
        "initial_medoids = [1, 50, 170]\n",
        "\n",
        "# Create instance of K-Medoids algorithm with prepared centers.\n",
        "kmedoids_instance = kmedoids(features.values.tolist(), initial_medoids)\n",
        "\n",
        "# Run cluster analysis.\n",
        "kmedoids_instance.process()\n",
        "\n",
        "# predict function is not availble in the release branch yet.\n",
        "# cluster_labels = kmedoids_instance.predict(features.values)\n",
        "\n",
        "clusters = kmedoids_instance.get_clusters()\n",
        "\n",
        "# Prepare cluster labels\n",
        "cluster_labels = np.zeros([210], dtype=int)\n",
        "\n",
        "for x in np.nditer(np.asarray(clusters[1])):\n",
        "   cluster_labels[x] = 1\n",
        "for x in np.nditer(np.asarray(clusters[2])):\n",
        "   cluster_labels[x] = 2\n",
        "\n",
        "cluster_labels"
      ],
      "metadata": {
        "colab": {
          "base_uri": "https://localhost:8080/"
        },
        "id": "LKsKoMYOnc0A",
        "outputId": "29a11473-2b0d-48fd-cb0a-5fab8e17230e"
      },
      "execution_count": 110,
      "outputs": [
        {
          "output_type": "execute_result",
          "data": {
            "text/plain": [
              "array([1, 1, 1, 1, 1, 1, 1, 1, 1, 1, 1, 1, 1, 1, 1, 1, 2, 1, 1, 2, 1, 1,\n",
              "       1, 1, 1, 1, 2, 1, 1, 1, 1, 1, 1, 1, 1, 1, 1, 0, 1, 2, 1, 1, 1, 1,\n",
              "       1, 1, 1, 1, 1, 1, 1, 1, 1, 1, 1, 1, 1, 1, 1, 1, 2, 2, 2, 2, 1, 1,\n",
              "       1, 1, 1, 2, 0, 0, 0, 0, 0, 0, 0, 0, 0, 0, 0, 0, 0, 0, 0, 0, 0, 0,\n",
              "       0, 0, 0, 0, 0, 0, 0, 0, 0, 0, 0, 0, 1, 0, 0, 0, 0, 0, 0, 0, 0, 0,\n",
              "       0, 0, 0, 0, 0, 0, 0, 0, 0, 0, 0, 0, 1, 0, 1, 0, 0, 0, 0, 0, 0, 0,\n",
              "       1, 1, 1, 1, 0, 1, 1, 1, 2, 2, 2, 2, 2, 2, 2, 2, 2, 2, 2, 2, 2, 2,\n",
              "       2, 2, 2, 2, 2, 2, 2, 2, 2, 2, 2, 2, 2, 2, 2, 2, 2, 2, 2, 2, 2, 2,\n",
              "       2, 2, 2, 1, 2, 2, 2, 2, 2, 2, 2, 2, 2, 2, 2, 2, 2, 2, 2, 2, 2, 2,\n",
              "       2, 2, 2, 1, 2, 2, 2, 2, 2, 2, 2, 2])"
            ]
          },
          "metadata": {},
          "execution_count": 110
        }
      ]
    },
    {
      "cell_type": "code",
      "source": [
        "# Mediods found in above clustering, indexes are shouwn below.\n",
        "kmedoids_instance.get_medoids()"
      ],
      "metadata": {
        "colab": {
          "base_uri": "https://localhost:8080/"
        },
        "id": "DeekvUTNvkfI",
        "outputId": "a32c481d-684d-49e7-9a17-97db77bd08cd"
      },
      "execution_count": 111,
      "outputs": [
        {
          "output_type": "execute_result",
          "data": {
            "text/plain": [
              "[118, 48, 162]"
            ]
          },
          "metadata": {},
          "execution_count": 111
        }
      ]
    },
    {
      "cell_type": "code",
      "source": [
        "silhouette_avg = metrics.silhouette_score(data,cluster_labels)\n",
        "print ('silhouette coefficient for the above clutering = ', silhouette_avg)"
      ],
      "metadata": {
        "colab": {
          "base_uri": "https://localhost:8080/"
        },
        "id": "ClaTxOfDvtic",
        "outputId": "325d358e-c649-496b-fc36-3ba539adf4c6"
      },
      "execution_count": 105,
      "outputs": [
        {
          "output_type": "stream",
          "name": "stdout",
          "text": [
            "silhouette coefficient for the above clutering =  0.4719337319126887\n"
          ]
        }
      ]
    },
    {
      "cell_type": "code",
      "source": [
        "purity = purity_score(Grain_var, cluster_labels)\n",
        "print ('Purity for the above clutering = ', purity)"
      ],
      "metadata": {
        "colab": {
          "base_uri": "https://localhost:8080/"
        },
        "id": "aebj_pFkwsZd",
        "outputId": "89ccd024-b86c-4921-ec89-fffb1d67211d"
      },
      "execution_count": 104,
      "outputs": [
        {
          "output_type": "stream",
          "name": "stdout",
          "text": [
            "Purity for the above clutering =  89.52380952380952\n"
          ]
        }
      ]
    }
  ]
}